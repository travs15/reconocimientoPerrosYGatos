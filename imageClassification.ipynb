{
 "cells": [
  {
   "cell_type": "code",
   "execution_count": 8,
   "metadata": {},
   "outputs": [],
   "source": [
    "import numpy as np\n",
    "import os\n",
    "from random import shuffle\n",
    "from tqdm import tqdm\n",
    "import cv2 \n",
    "\n",
    "TRAIN_DIR = 'C:/Users/alejo/tesis/train'\n",
    "TEST_DIR = 'C:/Users/alejo/tesis/test'\n",
    "#tamaño de imagen\n",
    "IMG_SIZE = 50\n",
    "#learning rate\n",
    "LR = 1e-3\n",
    "MODEL_NAME = 'dogsvscats-{}-{}.model'.format(LR, '2conv-basic')"
   ]
  },
  {
   "cell_type": "code",
   "execution_count": 9,
   "metadata": {},
   "outputs": [],
   "source": [
    "def labelImg(img):\n",
    "    #dog.90.png\n",
    "    wordLabel = img.split('.')[-3]\n",
    "    if wordLabel == 'cat': return [1,0]\n",
    "    elif wordLabel == 'dog': return [0,1]"
   ]
  },
  {
   "cell_type": "code",
   "execution_count": 10,
   "metadata": {},
   "outputs": [],
   "source": [
    "def createTrainData():\n",
    "    trainingData = []\n",
    "    for img in tqdm(os.listdir(TRAIN_DIR)):\n",
    "        label = labelImg(img)\n",
    "        path = os.path.join(TRAIN_DIR,img)\n",
    "        img = cv2.resize(cv2.imread(path, cv2.IMREAD_GRAYSCALE), (IMG_SIZE,IMG_SIZE))\n",
    "        trainingData.append([np.array(img), np.array(label)])\n",
    "    shuffle(trainingData)\n",
    "    np.save('trainData.npy',trainingData)\n",
    "    return trainingData"
   ]
  },
  {
   "cell_type": "code",
   "execution_count": 11,
   "metadata": {},
   "outputs": [],
   "source": [
    "def processTestData():\n",
    "    testingData = []\n",
    "    for img in tqdm(os.listdir(TEST_DIR)):\n",
    "        path = os.path.join(TEST_DIR,img)\n",
    "        imgNum = img.split('.')[0]\n",
    "        img = cv2.resize(cv2.imread(path,cv2.IMREAD_GRAYSCALE), (IMG_SIZE,IMG_SIZE))\n",
    "        testingData.append([np.array(img),imgNum])\n",
    "    np.save('testData.npy',testingData)\n",
    "    return testingData"
   ]
  },
  {
   "cell_type": "code",
   "execution_count": 12,
   "metadata": {},
   "outputs": [
    {
     "name": "stderr",
     "output_type": "stream",
     "text": [
      "100%|███████████████████████████████████████████████████████████████████████████| 24999/24999 [00:45<00:00, 546.48it/s]\n"
     ]
    }
   ],
   "source": [
    "trainData = createTrainData();\n",
    "#trainData = np.load('trainData.npy')"
   ]
  },
  {
   "cell_type": "code",
   "execution_count": 13,
   "metadata": {},
   "outputs": [
    {
     "name": "stderr",
     "output_type": "stream",
     "text": [
      "100%|███████████████████████████████████████████████████████████████████████████| 12500/12500 [00:31<00:00, 391.98it/s]\n"
     ]
    }
   ],
   "source": [
    "testData = processTestData();\n",
    "#testData = np.load('testData.npy');"
   ]
  },
  {
   "cell_type": "code",
   "execution_count": null,
   "metadata": {},
   "outputs": [],
   "source": [
    "import tflearn\n",
    "from tflearn.layers.conv import conv_2d, max_pool_2d\n",
    "from tflearn.layers.core import input_data, dropout, fully_connected\n",
    "from tflearn.layers.estimator import regression\n",
    "\n",
    "#reinicia la grafica que sale en el tensorboard\n",
    "import tensorflow as tf\n",
    "tf.reset_default_graph()\n",
    "\n",
    "#usando tf learn\n",
    "#capa de entrada\n",
    "convnet = input_data(shape=[None, IMG_SIZE, IMG_SIZE, 1], name='input')\n",
    "## 2 capas de convolución y pooling\n",
    "convnet = conv_2d(convnet, 32, 2, activation='relu')\n",
    "convnet = max_pool_2d(convnet, 2)\n",
    "\n",
    "convnet = conv_2d(convnet, 64, 2, activation='relu')\n",
    "convnet = max_pool_2d(convnet, 2)\n",
    "\n",
    "convnet = conv_2d(convnet, 32, 2, activation='relu')\n",
    "convnet = max_pool_2d(convnet, 2)\n",
    "\n",
    "convnet = conv_2d(convnet, 64, 2, activation='relu')\n",
    "convnet = max_pool_2d(convnet, 2)\n",
    "\n",
    "convnet = conv_2d(convnet, 32, 2, activation='relu')\n",
    "convnet = max_pool_2d(convnet, 2)\n",
    "\n",
    "convnet = conv_2d(convnet, 64, 2, activation='relu')\n",
    "convnet = max_pool_2d(convnet, 2)\n",
    "\n",
    "## se agrega una capa completamente conectada\n",
    "convnet = fully_connected(convnet, 1024, activation='relu')\n",
    "convnet = dropout(convnet, 0.8)\n",
    "##capa de salida\n",
    "#opciones que se tienen para reconocer 2 gato y perro, segundo arg\n",
    "convnet = fully_connected(convnet, 2, activation='softmax')\n",
    "convnet = regression(convnet, optimizer='adam', learning_rate=LR, loss='categorical_crossentropy', name='targets')\n",
    "#creación del modelo\n",
    "model = tflearn.DNN(convnet, tensorboard_dir='log')"
   ]
  },
  {
   "cell_type": "code",
   "execution_count": null,
   "metadata": {},
   "outputs": [],
   "source": [
    "if os.path.exists('{}.meta'.format(MODEL_NAME)):\n",
    "    model.load(MODEL_NAME)\n",
    "    print('model loaded')\n",
    "else:\n",
    "    print('fail')"
   ]
  },
  {
   "cell_type": "code",
   "execution_count": null,
   "metadata": {},
   "outputs": [],
   "source": [
    "train = trainData[:-500]\n",
    "test = trainData[-500:]"
   ]
  },
  {
   "cell_type": "code",
   "execution_count": null,
   "metadata": {},
   "outputs": [],
   "source": [
    "#x feature sets, Y Labels\n",
    "#i[0] data de la imagen pixel data\n",
    "X = np.array([i[0] for i in train]).reshape(-1, IMG_SIZE, IMG_SIZE, 1)\n",
    "Y = [i[1] for i in train]\n",
    "\n",
    "testX = np.array([i[0] for i in test]).reshape(-1, IMG_SIZE, IMG_SIZE, 1)\n",
    "testY = [i[1] for i in test]"
   ]
  },
  {
   "cell_type": "code",
   "execution_count": null,
   "metadata": {},
   "outputs": [],
   "source": [
    "#entrenamiento del modelo\n",
    "model.fit({'input': X}, {'targets': Y}, n_epoch=10, validation_set=({'input': testX}, {'targets': testY}), \n",
    "    snapshot_step=500, show_metric=True, run_id=MODEL_NAME)"
   ]
  },
  {
   "cell_type": "code",
   "execution_count": null,
   "metadata": {},
   "outputs": [],
   "source": [
    "#tensorboard --logdir=foo:C:\\Users\\alejo\\tesis\\log\n",
    "model.save(MODEL_NAME)"
   ]
  },
  {
   "cell_type": "code",
   "execution_count": null,
   "metadata": {},
   "outputs": [],
   "source": [
    "import matplotlib.pyplot as plt\n",
    "fig = plt.figure()\n",
    "\n",
    "for num, data in enumerate(testData[:12]):\n",
    "    #cat[1,0]\n",
    "    #dog[0,1]\n",
    "    imgNum = data[1]\n",
    "    imgData = data[0]\n",
    "    \n",
    "    y = fig.add_subplot(3,4,num+1)\n",
    "    orig = imgData\n",
    "    data = imgData.reshape(IMG_SIZE,IMG_SIZE,1)\n",
    "    \n",
    "    modelOut = model.predict([data])[0]\n",
    "    \n",
    "    if np.argmax(modelOut) == 1:str_label='Dog'\n",
    "    else str_label='Cat'\n",
    "    \n",
    "    y.imshow(orig, cmap='gray')\n",
    "    \n",
    "    plt.title(str_label)\n",
    "    y.axes.get_xaxis().set_visible(false)\n",
    "    y.axes.get_yaxis().set_visible(false)\n",
    "plt.show()"
   ]
  },
  {
   "cell_type": "code",
   "execution_count": null,
   "metadata": {},
   "outputs": [],
   "source": [
    "#model accuracy\n",
    "model.evaluate(x_test, y_test)"
   ]
  },
  {
   "cell_type": "markdown",
   "metadata": {},
   "source": []
  }
 ],
 "metadata": {
  "kernelspec": {
   "display_name": "Python 3",
   "language": "python",
   "name": "python3"
  },
  "language_info": {
   "codemirror_mode": {
    "name": "ipython",
    "version": 3
   },
   "file_extension": ".py",
   "mimetype": "text/x-python",
   "name": "python",
   "nbconvert_exporter": "python",
   "pygments_lexer": "ipython3",
   "version": "3.7.0"
  }
 },
 "nbformat": 4,
 "nbformat_minor": 2
}
